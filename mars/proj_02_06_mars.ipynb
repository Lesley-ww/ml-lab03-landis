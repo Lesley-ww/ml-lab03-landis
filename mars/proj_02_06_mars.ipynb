{
 "cells": [
  {
   "cell_type": "markdown",
   "metadata": {},
   "source": [
    "# Creating Data from Lists or Numpy Array\n"
   ]
  },
  {
   "cell_type": "code",
   "execution_count": 128,
   "metadata": {
    "scrolled": true
   },
   "outputs": [],
   "source": [
    "import pandas as pd\n"
   ]
  },
  {
   "cell_type": "code",
   "execution_count": 132,
   "metadata": {},
   "outputs": [
    {
     "data": {
      "text/html": [
       "<div>\n",
       "<style scoped>\n",
       "    .dataframe tbody tr th:only-of-type {\n",
       "        vertical-align: middle;\n",
       "    }\n",
       "\n",
       "    .dataframe tbody tr th {\n",
       "        vertical-align: top;\n",
       "    }\n",
       "\n",
       "    .dataframe thead th {\n",
       "        text-align: right;\n",
       "    }\n",
       "</style>\n",
       "<table border=\"1\" class=\"dataframe\">\n",
       "  <thead>\n",
       "    <tr style=\"text-align: right;\">\n",
       "      <th></th>\n",
       "      <th>x</th>\n",
       "      <th>log_x</th>\n",
       "      <th>root_x</th>\n",
       "      <th>x^2</th>\n",
       "      <th>x^x</th>\n",
       "    </tr>\n",
       "  </thead>\n",
       "  <tbody>\n",
       "    <tr>\n",
       "      <td>1</td>\n",
       "      <td>1</td>\n",
       "      <td>0.000000</td>\n",
       "      <td>1.000000</td>\n",
       "      <td>1</td>\n",
       "      <td>1</td>\n",
       "    </tr>\n",
       "    <tr>\n",
       "      <td>2</td>\n",
       "      <td>2</td>\n",
       "      <td>0.693147</td>\n",
       "      <td>1.414214</td>\n",
       "      <td>4</td>\n",
       "      <td>4</td>\n",
       "    </tr>\n",
       "    <tr>\n",
       "      <td>3</td>\n",
       "      <td>3</td>\n",
       "      <td>1.098612</td>\n",
       "      <td>1.732051</td>\n",
       "      <td>9</td>\n",
       "      <td>27</td>\n",
       "    </tr>\n",
       "    <tr>\n",
       "      <td>4</td>\n",
       "      <td>4</td>\n",
       "      <td>1.386294</td>\n",
       "      <td>2.000000</td>\n",
       "      <td>16</td>\n",
       "      <td>256</td>\n",
       "    </tr>\n",
       "    <tr>\n",
       "      <td>5</td>\n",
       "      <td>5</td>\n",
       "      <td>1.609438</td>\n",
       "      <td>2.236068</td>\n",
       "      <td>25</td>\n",
       "      <td>3125</td>\n",
       "    </tr>\n",
       "  </tbody>\n",
       "</table>\n",
       "</div>"
      ],
      "text/plain": [
       "   x     log_x    root_x  x^2   x^x\n",
       "1  1  0.000000  1.000000    1     1\n",
       "2  2  0.693147  1.414214    4     4\n",
       "3  3  1.098612  1.732051    9    27\n",
       "4  4  1.386294  2.000000   16   256\n",
       "5  5  1.609438  2.236068   25  3125"
      ]
     },
     "execution_count": 132,
     "metadata": {},
     "output_type": "execute_result"
    }
   ],
   "source": [
    "import math\n",
    "nums = [ x for x in range(1,6)]\n",
    "numslog = [math.log(x) for x in nums]\n",
    "numsroot = [float(x) ** 0.5 for x in nums]\n",
    "nums2 = [x ** 2 for x in nums]\n",
    "numsnums = [x ** x for x in nums]\n",
    "datablock = { 'x': nums, 'log_x': numslog, 'root_x': numsroot, 'x^2': nums2, 'x^x': numsnums }\n",
    "df = pd.DataFrame( data = datablock,\n",
    "                 index = nums)\n",
    "#[nums, numslog, numsroot, nums2, numsnums]\n",
    "df"
   ]
  },
  {
   "cell_type": "code",
   "execution_count": 106,
   "metadata": {},
   "outputs": [
    {
     "data": {
      "text/html": [
       "<div>\n",
       "<style scoped>\n",
       "    .dataframe tbody tr th:only-of-type {\n",
       "        vertical-align: middle;\n",
       "    }\n",
       "\n",
       "    .dataframe tbody tr th {\n",
       "        vertical-align: top;\n",
       "    }\n",
       "\n",
       "    .dataframe thead th {\n",
       "        text-align: right;\n",
       "    }\n",
       "</style>\n",
       "<table border=\"1\" class=\"dataframe\">\n",
       "  <thead>\n",
       "    <tr style=\"text-align: right;\">\n",
       "      <th></th>\n",
       "      <th>FullName</th>\n",
       "      <th>Jan</th>\n",
       "      <th>Feb</th>\n",
       "      <th>Mar</th>\n",
       "      <th>Apr</th>\n",
       "      <th>May</th>\n",
       "    </tr>\n",
       "  </thead>\n",
       "  <tbody>\n",
       "    <tr>\n",
       "      <td>Jones</td>\n",
       "      <td>Jones and Doe LLC</td>\n",
       "      <td>150</td>\n",
       "      <td>200</td>\n",
       "      <td>50</td>\n",
       "      <td>89</td>\n",
       "      <td>114</td>\n",
       "    </tr>\n",
       "    <tr>\n",
       "      <td>Alpha</td>\n",
       "      <td>Alpha Omega Co</td>\n",
       "      <td>200</td>\n",
       "      <td>210</td>\n",
       "      <td>190</td>\n",
       "      <td>200</td>\n",
       "      <td>190</td>\n",
       "    </tr>\n",
       "    <tr>\n",
       "      <td>Blue</td>\n",
       "      <td>Blue Skies Inc</td>\n",
       "      <td>140</td>\n",
       "      <td>215</td>\n",
       "      <td>95</td>\n",
       "      <td>77</td>\n",
       "      <td>70</td>\n",
       "    </tr>\n",
       "  </tbody>\n",
       "</table>\n",
       "</div>"
      ],
      "text/plain": [
       "                FullName  Jan  Feb  Mar  Apr  May\n",
       "Jones  Jones and Doe LLC  150  200   50   89  114\n",
       "Alpha     Alpha Omega Co  200  210  190  200  190\n",
       "Blue      Blue Skies Inc  140  215   95   77   70"
      ]
     },
     "execution_count": 106,
     "metadata": {},
     "output_type": "execute_result"
    }
   ],
   "source": [
    "sales = [['Jones and Doe LLC', 150, 200, 50, 89, 114],\n",
    "         ['Alpha Omega Co', 200, 210, 190, 200,190],\n",
    "         ['Blue Skies Inc', 140, 215, 95, 77, 70]]\n",
    "labels = ['FullName', 'Jan', 'Feb', 'Mar','Apr','May']\n",
    "index=['Jones','Alpha', 'Blue']\n",
    "df = pd.DataFrame.from_records(sales, index=index,columns=labels)\n",
    "df = pd.DataFrame(sales, index=index,columns=labels)\n",
    "df"
   ]
  },
  {
   "cell_type": "code",
   "execution_count": 104,
   "metadata": {},
   "outputs": [
    {
     "name": "stdout",
     "output_type": "stream",
     "text": [
      "['Jones', 'Alpha', 'Blue'] \n",
      " ['FullName', 'Jan', 'Feb', 'Mar', 'Apr', 'May'] \n",
      " [['Jones and Doe LLC', 150, 200, 50, 89, 114], ['Alpha Omega Co', 200, 210, 190, 200, 190], ['Blue Skies Inc', 140, 215, 95, 77, 70]]\n"
     ]
    },
    {
     "data": {
      "text/html": [
       "<div>\n",
       "<style scoped>\n",
       "    .dataframe tbody tr th:only-of-type {\n",
       "        vertical-align: middle;\n",
       "    }\n",
       "\n",
       "    .dataframe tbody tr th {\n",
       "        vertical-align: top;\n",
       "    }\n",
       "\n",
       "    .dataframe thead th {\n",
       "        text-align: right;\n",
       "    }\n",
       "</style>\n",
       "<table border=\"1\" class=\"dataframe\">\n",
       "  <thead>\n",
       "    <tr style=\"text-align: right;\">\n",
       "      <th></th>\n",
       "      <th>FullName</th>\n",
       "      <th>Jan</th>\n",
       "      <th>Feb</th>\n",
       "      <th>Mar</th>\n",
       "      <th>Apr</th>\n",
       "      <th>May</th>\n",
       "    </tr>\n",
       "  </thead>\n",
       "  <tbody>\n",
       "    <tr>\n",
       "      <td>Jones</td>\n",
       "      <td>Jones and Doe LLC</td>\n",
       "      <td>150</td>\n",
       "      <td>200</td>\n",
       "      <td>50</td>\n",
       "      <td>89</td>\n",
       "      <td>114</td>\n",
       "    </tr>\n",
       "    <tr>\n",
       "      <td>Alpha</td>\n",
       "      <td>Alpha Omega Co</td>\n",
       "      <td>200</td>\n",
       "      <td>210</td>\n",
       "      <td>190</td>\n",
       "      <td>200</td>\n",
       "      <td>190</td>\n",
       "    </tr>\n",
       "    <tr>\n",
       "      <td>Blue</td>\n",
       "      <td>Blue Skies Inc</td>\n",
       "      <td>140</td>\n",
       "      <td>215</td>\n",
       "      <td>95</td>\n",
       "      <td>77</td>\n",
       "      <td>70</td>\n",
       "    </tr>\n",
       "  </tbody>\n",
       "</table>\n",
       "</div>"
      ],
      "text/plain": [
       "                FullName  Jan  Feb  Mar  Apr  May\n",
       "Jones  Jones and Doe LLC  150  200   50   89  114\n",
       "Alpha     Alpha Omega Co  200  210  190  200  190\n",
       "Blue      Blue Skies Inc  140  215   95   77   70"
      ]
     },
     "execution_count": 104,
     "metadata": {},
     "output_type": "execute_result"
    }
   ],
   "source": [
    "sales = [['shortname','FullName', 'Jan', 'Feb', 'Mar','Apr','May'],\n",
    "         ['Jones','Jones and Doe LLC', 150, 200, 50, 89, 114],\n",
    "         ['Alpha','Alpha Omega Co', 200, 210, 190, 200,190],\n",
    "         ['Blue','Blue Skies Inc', 140, 215, 95, 77, 70]]\n",
    "dataPart = [record[1:] for record in sales[1:] ] # slice off first row and column.\n",
    "indexPart = [record[0] for record in sales[1:]] # get the index out of first column, but skip first row.\n",
    "columnsPart = [record for record in sales[0][1:]]  # get the columns from all but the first column of first row\n",
    "print(indexPart, \"\\n\", columnsPart, \"\\n\", dataPart)\n",
    "df = pd.DataFrame(dataPart, index=indexPart,columns=columnsPart)\n",
    "df"
   ]
  },
  {
   "cell_type": "code",
   "execution_count": 118,
   "metadata": {},
   "outputs": [
    {
     "name": "stdout",
     "output_type": "stream",
     "text": [
      "[{'FullName': 'Jones and Doe LLC', 'Jan': 150, 'Feb': 200, 'Mar': 50}, {'FullName': 'Alpha Omega Co', 'Jan': 200, 'Feb': 210, 'Mar': 190}, {'FullName': 'Blue Skies Inc', 'Jan': 140, 'Feb': 215, 'Mar': 95}]\n"
     ]
    },
    {
     "data": {
      "text/html": [
       "<div>\n",
       "<style scoped>\n",
       "    .dataframe tbody tr th:only-of-type {\n",
       "        vertical-align: middle;\n",
       "    }\n",
       "\n",
       "    .dataframe tbody tr th {\n",
       "        vertical-align: top;\n",
       "    }\n",
       "\n",
       "    .dataframe thead th {\n",
       "        text-align: right;\n",
       "    }\n",
       "</style>\n",
       "<table border=\"1\" class=\"dataframe\">\n",
       "  <thead>\n",
       "    <tr style=\"text-align: right;\">\n",
       "      <th></th>\n",
       "      <th>FullName</th>\n",
       "      <th>Jan</th>\n",
       "      <th>Feb</th>\n",
       "      <th>Mar</th>\n",
       "    </tr>\n",
       "  </thead>\n",
       "  <tbody>\n",
       "    <tr>\n",
       "      <td>Jones</td>\n",
       "      <td>Jones and Doe LLC</td>\n",
       "      <td>150</td>\n",
       "      <td>200</td>\n",
       "      <td>50</td>\n",
       "    </tr>\n",
       "    <tr>\n",
       "      <td>Alpha</td>\n",
       "      <td>Alpha Omega Co</td>\n",
       "      <td>200</td>\n",
       "      <td>210</td>\n",
       "      <td>190</td>\n",
       "    </tr>\n",
       "    <tr>\n",
       "      <td>Blue</td>\n",
       "      <td>Blue Skies Inc</td>\n",
       "      <td>140</td>\n",
       "      <td>215</td>\n",
       "      <td>95</td>\n",
       "    </tr>\n",
       "  </tbody>\n",
       "</table>\n",
       "</div>"
      ],
      "text/plain": [
       "                FullName  Jan  Feb  Mar\n",
       "Jones  Jones and Doe LLC  150  200   50\n",
       "Alpha     Alpha Omega Co  200  210  190\n",
       "Blue      Blue Skies Inc  140  215   95"
      ]
     },
     "execution_count": 118,
     "metadata": {},
     "output_type": "execute_result"
    }
   ],
   "source": [
    "sales = [{'shortname': 'Jones', 'FullName': 'Jones and Doe LLC', 'Jan': 150, 'Feb': 200, 'Mar': 50},\n",
    "         {'shortname': 'Alpha', 'FullName': 'Alpha Omega Co', 'Jan': 200, 'Feb': 210, 'Mar': 190, },\n",
    "         {'shortname': 'Blue', 'FullName': 'Blue Skies Inc', 'Jan': 140, 'Feb': 215, 'Mar': 95}]\n",
    "indexPart=[record['shortname'] for record in sales]\n",
    "sales1 = sales[1]\n",
    "sales1 = {key: value for (key, value) in sales1.items() if key not in {'shortname'} }\n",
    "sales = [ {key: value for (key, value) in record.items() if key not in {'shortname'} }  for record in sales]\n",
    "print(sales)\n",
    "df = pd.DataFrame(sales, index=indexPart)\n",
    "df"
   ]
  },
  {
   "cell_type": "code",
   "execution_count": 120,
   "metadata": {},
   "outputs": [
    {
     "data": {
      "text/html": [
       "<div>\n",
       "<style scoped>\n",
       "    .dataframe tbody tr th:only-of-type {\n",
       "        vertical-align: middle;\n",
       "    }\n",
       "\n",
       "    .dataframe tbody tr th {\n",
       "        vertical-align: top;\n",
       "    }\n",
       "\n",
       "    .dataframe thead th {\n",
       "        text-align: right;\n",
       "    }\n",
       "</style>\n",
       "<table border=\"1\" class=\"dataframe\">\n",
       "  <thead>\n",
       "    <tr style=\"text-align: right;\">\n",
       "      <th></th>\n",
       "      <th>shortname</th>\n",
       "      <th>FullName</th>\n",
       "      <th>Jan</th>\n",
       "      <th>Feb</th>\n",
       "      <th>Mar</th>\n",
       "    </tr>\n",
       "  </thead>\n",
       "  <tbody>\n",
       "    <tr>\n",
       "      <td>Jones</td>\n",
       "      <td>Jones</td>\n",
       "      <td>Jones and Doe LLC</td>\n",
       "      <td>150</td>\n",
       "      <td>200</td>\n",
       "      <td>50</td>\n",
       "    </tr>\n",
       "    <tr>\n",
       "      <td>Alpha</td>\n",
       "      <td>Alpha</td>\n",
       "      <td>Alpha Omega Co</td>\n",
       "      <td>200</td>\n",
       "      <td>210</td>\n",
       "      <td>190</td>\n",
       "    </tr>\n",
       "    <tr>\n",
       "      <td>Blue</td>\n",
       "      <td>Blue</td>\n",
       "      <td>Blue Skies Inc</td>\n",
       "      <td>140</td>\n",
       "      <td>215</td>\n",
       "      <td>95</td>\n",
       "    </tr>\n",
       "  </tbody>\n",
       "</table>\n",
       "</div>"
      ],
      "text/plain": [
       "      shortname           FullName  Jan  Feb  Mar\n",
       "Jones     Jones  Jones and Doe LLC  150  200   50\n",
       "Alpha     Alpha     Alpha Omega Co  200  210  190\n",
       "Blue       Blue     Blue Skies Inc  140  215   95"
      ]
     },
     "execution_count": 120,
     "metadata": {},
     "output_type": "execute_result"
    }
   ],
   "source": [
    "sales = [{'shortname': 'Jones', 'FullName': 'Jones and Doe LLC', 'Jan': 150, 'Feb': 200, 'Mar': 50},\n",
    "         {'shortname': 'Alpha', 'FullName': 'Alpha Omega Co', 'Jan': 200, 'Feb': 210, 'Mar': 190, },\n",
    "         {'shortname': 'Blue', 'FullName': 'Blue Skies Inc', 'Jan': 140, 'Feb': 215, 'Mar': 95}]\n",
    "indexPart=[record['shortname'] for record in sales]\n",
    "df = pd.DataFrame(sales, index=indexPart)\n",
    "#df = df['FullName', 'Jan', 'Feb', 'Mar']\n",
    "df"
   ]
  },
  {
   "cell_type": "code",
   "execution_count": 111,
   "metadata": {},
   "outputs": [
    {
     "data": {
      "text/html": [
       "<div>\n",
       "<style scoped>\n",
       "    .dataframe tbody tr th:only-of-type {\n",
       "        vertical-align: middle;\n",
       "    }\n",
       "\n",
       "    .dataframe tbody tr th {\n",
       "        vertical-align: top;\n",
       "    }\n",
       "\n",
       "    .dataframe thead th {\n",
       "        text-align: right;\n",
       "    }\n",
       "</style>\n",
       "<table border=\"1\" class=\"dataframe\">\n",
       "  <thead>\n",
       "    <tr style=\"text-align: right;\">\n",
       "      <th></th>\n",
       "      <th>account</th>\n",
       "      <th>Jan</th>\n",
       "      <th>Feb</th>\n",
       "      <th>Mar</th>\n",
       "    </tr>\n",
       "  </thead>\n",
       "  <tbody>\n",
       "    <tr>\n",
       "      <td>Jones</td>\n",
       "      <td>Jones and Doe LLC</td>\n",
       "      <td>150</td>\n",
       "      <td>200</td>\n",
       "      <td>140</td>\n",
       "    </tr>\n",
       "    <tr>\n",
       "      <td>Alpha</td>\n",
       "      <td>Alpha Omega Co</td>\n",
       "      <td>200</td>\n",
       "      <td>210</td>\n",
       "      <td>215</td>\n",
       "    </tr>\n",
       "    <tr>\n",
       "      <td>Blue</td>\n",
       "      <td>Blue Skies Inc</td>\n",
       "      <td>50</td>\n",
       "      <td>90</td>\n",
       "      <td>95</td>\n",
       "    </tr>\n",
       "  </tbody>\n",
       "</table>\n",
       "</div>"
      ],
      "text/plain": [
       "                 account  Jan  Feb  Mar\n",
       "Jones  Jones and Doe LLC  150  200  140\n",
       "Alpha     Alpha Omega Co  200  210  215\n",
       "Blue      Blue Skies Inc   50   90   95"
      ]
     },
     "execution_count": 111,
     "metadata": {},
     "output_type": "execute_result"
    }
   ],
   "source": [
    "sales = {\n",
    "'shortname': ['Jones','Alpha','Blue'],\n",
    "'account': ['Jones and Doe LLC', 'Alpha Omega Co', 'Blue Skies Inc'],\n",
    "'Jan': [150, 200, 50],\n",
    "'Feb': [200, 210, 90],\n",
    "'Mar': [140, 215, 95]}\n",
    "indexPart=sales['shortname']\n",
    "del sales['shortname'] # take the index out of the data.\n",
    "df = pd.DataFrame(sales, index=indexPart)\n",
    "df"
   ]
  },
  {
   "cell_type": "code",
   "execution_count": 121,
   "metadata": {},
   "outputs": [
    {
     "data": {
      "text/plain": [
       "Index(['shortname', 'FullName', 'Jan', 'Feb', 'Mar'], dtype='object')"
      ]
     },
     "execution_count": 121,
     "metadata": {},
     "output_type": "execute_result"
    }
   ],
   "source": [
    "df.columns"
   ]
  },
  {
   "cell_type": "code",
   "execution_count": 123,
   "metadata": {},
   "outputs": [
    {
     "data": {
      "text/plain": [
       "['FullName', 'Jan', 'Feb', 'Mar']"
      ]
     },
     "execution_count": 123,
     "metadata": {},
     "output_type": "execute_result"
    }
   ],
   "source": [
    "[column for column in df.columns if column not in {'shortname'}]"
   ]
  },
  {
   "cell_type": "code",
   "execution_count": 124,
   "metadata": {},
   "outputs": [
    {
     "data": {
      "text/html": [
       "<div>\n",
       "<style scoped>\n",
       "    .dataframe tbody tr th:only-of-type {\n",
       "        vertical-align: middle;\n",
       "    }\n",
       "\n",
       "    .dataframe tbody tr th {\n",
       "        vertical-align: top;\n",
       "    }\n",
       "\n",
       "    .dataframe thead th {\n",
       "        text-align: right;\n",
       "    }\n",
       "</style>\n",
       "<table border=\"1\" class=\"dataframe\">\n",
       "  <thead>\n",
       "    <tr style=\"text-align: right;\">\n",
       "      <th></th>\n",
       "      <th>shortname</th>\n",
       "      <th>FullName</th>\n",
       "      <th>Jan</th>\n",
       "      <th>Feb</th>\n",
       "      <th>Mar</th>\n",
       "    </tr>\n",
       "  </thead>\n",
       "  <tbody>\n",
       "    <tr>\n",
       "      <td>Jones</td>\n",
       "      <td>Jones</td>\n",
       "      <td>Jones and Doe LLC</td>\n",
       "      <td>150</td>\n",
       "      <td>200</td>\n",
       "      <td>50</td>\n",
       "    </tr>\n",
       "    <tr>\n",
       "      <td>Alpha</td>\n",
       "      <td>Alpha</td>\n",
       "      <td>Alpha Omega Co</td>\n",
       "      <td>200</td>\n",
       "      <td>210</td>\n",
       "      <td>190</td>\n",
       "    </tr>\n",
       "    <tr>\n",
       "      <td>Blue</td>\n",
       "      <td>Blue</td>\n",
       "      <td>Blue Skies Inc</td>\n",
       "      <td>140</td>\n",
       "      <td>215</td>\n",
       "      <td>95</td>\n",
       "    </tr>\n",
       "  </tbody>\n",
       "</table>\n",
       "</div>"
      ],
      "text/plain": [
       "      shortname           FullName  Jan  Feb  Mar\n",
       "Jones     Jones  Jones and Doe LLC  150  200   50\n",
       "Alpha     Alpha     Alpha Omega Co  200  210  190\n",
       "Blue       Blue     Blue Skies Inc  140  215   95"
      ]
     },
     "execution_count": 124,
     "metadata": {},
     "output_type": "execute_result"
    }
   ],
   "source": [
    "sales = [{'shortname': 'Jones', 'FullName': 'Jones and Doe LLC', 'Jan': 150, 'Feb': 200, 'Mar': 50},\n",
    "         {'shortname': 'Alpha', 'FullName': 'Alpha Omega Co', 'Jan': 200, 'Feb': 210, 'Mar': 190, },\n",
    "         {'shortname': 'Blue', 'FullName': 'Blue Skies Inc', 'Jan': 140, 'Feb': 215, 'Mar': 95}]\n",
    "indexPart=[record['shortname'] for record in sales]\n",
    "df = pd.DataFrame(sales, index=indexPart)\n",
    "df\n"
   ]
  },
  {
   "cell_type": "code",
   "execution_count": 125,
   "metadata": {},
   "outputs": [
    {
     "data": {
      "text/html": [
       "<div>\n",
       "<style scoped>\n",
       "    .dataframe tbody tr th:only-of-type {\n",
       "        vertical-align: middle;\n",
       "    }\n",
       "\n",
       "    .dataframe tbody tr th {\n",
       "        vertical-align: top;\n",
       "    }\n",
       "\n",
       "    .dataframe thead th {\n",
       "        text-align: right;\n",
       "    }\n",
       "</style>\n",
       "<table border=\"1\" class=\"dataframe\">\n",
       "  <thead>\n",
       "    <tr style=\"text-align: right;\">\n",
       "      <th></th>\n",
       "      <th>FullName</th>\n",
       "      <th>Jan</th>\n",
       "      <th>Feb</th>\n",
       "      <th>Mar</th>\n",
       "    </tr>\n",
       "  </thead>\n",
       "  <tbody>\n",
       "    <tr>\n",
       "      <td>Jones</td>\n",
       "      <td>Jones and Doe LLC</td>\n",
       "      <td>150</td>\n",
       "      <td>200</td>\n",
       "      <td>50</td>\n",
       "    </tr>\n",
       "    <tr>\n",
       "      <td>Alpha</td>\n",
       "      <td>Alpha Omega Co</td>\n",
       "      <td>200</td>\n",
       "      <td>210</td>\n",
       "      <td>190</td>\n",
       "    </tr>\n",
       "    <tr>\n",
       "      <td>Blue</td>\n",
       "      <td>Blue Skies Inc</td>\n",
       "      <td>140</td>\n",
       "      <td>215</td>\n",
       "      <td>95</td>\n",
       "    </tr>\n",
       "  </tbody>\n",
       "</table>\n",
       "</div>"
      ],
      "text/plain": [
       "                FullName  Jan  Feb  Mar\n",
       "Jones  Jones and Doe LLC  150  200   50\n",
       "Alpha     Alpha Omega Co  200  210  190\n",
       "Blue      Blue Skies Inc  140  215   95"
      ]
     },
     "execution_count": 125,
     "metadata": {},
     "output_type": "execute_result"
    }
   ],
   "source": [
    "dfNoShortname = df[ ['FullName','Jan','Feb','Mar'] ]\n",
    "dfNoShortname\n"
   ]
  },
  {
   "cell_type": "code",
   "execution_count": 127,
   "metadata": {},
   "outputs": [
    {
     "data": {
      "text/html": [
       "<div>\n",
       "<style scoped>\n",
       "    .dataframe tbody tr th:only-of-type {\n",
       "        vertical-align: middle;\n",
       "    }\n",
       "\n",
       "    .dataframe tbody tr th {\n",
       "        vertical-align: top;\n",
       "    }\n",
       "\n",
       "    .dataframe thead th {\n",
       "        text-align: right;\n",
       "    }\n",
       "</style>\n",
       "<table border=\"1\" class=\"dataframe\">\n",
       "  <thead>\n",
       "    <tr style=\"text-align: right;\">\n",
       "      <th></th>\n",
       "      <th>FullName</th>\n",
       "      <th>Jan</th>\n",
       "      <th>Feb</th>\n",
       "      <th>Mar</th>\n",
       "    </tr>\n",
       "  </thead>\n",
       "  <tbody>\n",
       "    <tr>\n",
       "      <td>Jones</td>\n",
       "      <td>Jones and Doe LLC</td>\n",
       "      <td>150</td>\n",
       "      <td>200</td>\n",
       "      <td>50</td>\n",
       "    </tr>\n",
       "    <tr>\n",
       "      <td>Alpha</td>\n",
       "      <td>Alpha Omega Co</td>\n",
       "      <td>200</td>\n",
       "      <td>210</td>\n",
       "      <td>190</td>\n",
       "    </tr>\n",
       "    <tr>\n",
       "      <td>Blue</td>\n",
       "      <td>Blue Skies Inc</td>\n",
       "      <td>140</td>\n",
       "      <td>215</td>\n",
       "      <td>95</td>\n",
       "    </tr>\n",
       "  </tbody>\n",
       "</table>\n",
       "</div>"
      ],
      "text/plain": [
       "                FullName  Jan  Feb  Mar\n",
       "Jones  Jones and Doe LLC  150  200   50\n",
       "Alpha     Alpha Omega Co  200  210  190\n",
       "Blue      Blue Skies Inc  140  215   95"
      ]
     },
     "execution_count": 127,
     "metadata": {},
     "output_type": "execute_result"
    }
   ],
   "source": [
    "dfNoShortname = df[  [column for column in df.columns if column not in {'shortname'}]  ]\n",
    "dfNoShortname"
   ]
  },
  {
   "cell_type": "code",
   "execution_count": null,
   "metadata": {},
   "outputs": [],
   "source": []
  }
 ],
 "metadata": {
  "kernelspec": {
   "display_name": "Python 3",
   "language": "python",
   "name": "python3"
  },
  "language_info": {
   "codemirror_mode": {
    "name": "ipython",
    "version": 3
   },
   "file_extension": ".py",
   "mimetype": "text/x-python",
   "name": "python",
   "nbconvert_exporter": "python",
   "pygments_lexer": "ipython3",
   "version": "3.7.5"
  }
 },
 "nbformat": 4,
 "nbformat_minor": 2
}
